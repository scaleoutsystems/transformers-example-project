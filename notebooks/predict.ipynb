{
 "cells": [
  {
   "cell_type": "code",
   "execution_count": 125,
   "metadata": {},
   "outputs": [],
   "source": [
    "import pickle\n",
    "\n",
    "# Set input string\n",
    "example = 'Av alla städer i världen, är du den stad som fått extra allt.'\n",
    "# example"
   ]
  },
  {
   "cell_type": "code",
   "execution_count": 126,
   "metadata": {},
   "outputs": [],
   "source": [
    "# get a token for authorization\n",
    "from scaleout.auth import get_token\n",
    "access_token, token_config = get_token()"
   ]
  },
  {
   "cell_type": "code",
   "execution_count": 127,
   "metadata": {},
   "outputs": [
    {
     "name": "stdout",
     "output_type": "stream",
     "text": [
      "{\"result\": [\"stad\", \"enda\", \"ort\", \"första\", \"stadsdel\"]}\n"
     ]
    }
   ],
   "source": [
    "import requests\n",
    "import json\n",
    "url = 'https://studio.safespring.stackn.dev/af-bert-rfd/serve/af-bert/v040/predict/'\n",
    "res = requests.post(url, headers={\"Authorization\": \"Token \"+access_token}, json={\"pred\": example, \"msk_ind\": 10})\n",
    "text_encoded = res.json().encode('latin1')\n",
    "text_decoded = text_encoded.decode('unicode-escape')\n",
    "print(text_decoded)"
   ]
  },
  {
   "cell_type": "code",
   "execution_count": null,
   "metadata": {},
   "outputs": [],
   "source": [
    "url = 'https://studio.safespring.stackn.dev/af-bert-rfd/serve/af-bert/v040/predict/'\n",
    "example = 'Vad är du?'\n",
    "res = requests.post(url, headers={\"Authorization\": \"Token \"+access_token}, json={\"pred\": example, \"msk_ind\": 3})\n",
    "text_encoded = res.json().encode('latin1')\n",
    "text_decoded = text_encoded.decode('unicode-escape')\n",
    "print(text_decoded)"
   ]
  },
  {
   "cell_type": "code",
   "execution_count": null,
   "metadata": {},
   "outputs": [],
   "source": []
  },
  {
   "cell_type": "code",
   "execution_count": null,
   "metadata": {},
   "outputs": [],
   "source": []
  }
 ],
 "metadata": {
  "kernelspec": {
   "display_name": "Python 3",
   "language": "python",
   "name": "python3"
  },
  "language_info": {
   "codemirror_mode": {
    "name": "ipython",
    "version": 3
   },
   "file_extension": ".py",
   "mimetype": "text/x-python",
   "name": "python",
   "nbconvert_exporter": "python",
   "pygments_lexer": "ipython3",
   "version": "3.8.5"
  }
 },
 "nbformat": 4,
 "nbformat_minor": 4
}
